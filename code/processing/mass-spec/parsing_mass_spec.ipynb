{
 "cells": [
  {
   "cell_type": "markdown",
   "id": "4092219f",
   "metadata": {},
   "source": [
    "# Processing data from Mass-spectrometry experiments"
   ]
  },
  {
   "cell_type": "code",
   "execution_count": null,
   "id": "d6ed0a2e-5225-49e3-b541-8adc6580300c",
   "metadata": {},
   "outputs": [],
   "source": [
    "import numpy as np\n",
    "import pandas as pd\n",
    "\n",
    "from copy import deepcopy\n",
    "\n",
    "import matplotlib.pyplot as plt\n",
    "\n",
    "import regseq2\n",
    "\n",
    "regseq2.viz.matplotlib_style()"
   ]
  },
  {
   "cell_type": "markdown",
   "id": "ea142b2e-bbde-4e4e-acd4-d440ea3f9660",
   "metadata": {},
   "source": [
    "## Parse individual files"
   ]
  },
  {
   "cell_type": "markdown",
   "id": "30b24c38",
   "metadata": {},
   "source": [
    "In this data we are looking for enrichment of transcription factors bound to the DNA oligos compared to control sequences. We first normalize the abundance of all proteins within a sample, and then compare the relative abundance of each protein in a sample compared to control. "
   ]
  },
  {
   "cell_type": "code",
   "execution_count": null,
   "id": "735be286-d494-444a-b3a4-c8fcff547059",
   "metadata": {},
   "outputs": [],
   "source": [
    "def parse_mass_spec(file, sample_dict, gc_dict):\n",
    "    # some files are csv, some are excel\n",
    "    if '.csv' in file:\n",
    "        df = pd.read_csv(file)\n",
    "    elif '.xlsx' in file:\n",
    "        df = pd.read_excel(file)\n",
    "\n",
    "    # get date of experiment\n",
    "    date = file.split('/')[4].split('_')[0]\n",
    "\n",
    "    # Get column headers\n",
    "    cols = [x for x in df.columns if np.any([y == x[:3] for y in sample_dict.keys()])]\n",
    "    df = deepcopy(df)\n",
    "\n",
    "    # normalize each sample\n",
    "    for col in cols:\n",
    "        df[col] = df[col] / np.sum(df[col])\n",
    "    \n",
    "    # reshape dataframe\n",
    "    df_parsed = pd.melt(df, id_vars=['Sum PEP Score', '# Peptides', 'Gene Symbol'], value_vars=cols, var_name='sample', value_name='abundance')\n",
    "    \n",
    "    # add condition and sample name\n",
    "    sample = []\n",
    "    gc = []\n",
    "    for s in df_parsed['sample'].values:\n",
    "        sample.append(sample_dict[s[:3]])\n",
    "        gc.append(gc_dict[s[3:]])\n",
    "    df_parsed['sample'] = sample\n",
    "    df_parsed['condition'] = gc\n",
    "\n",
    "    # split by conditions and compute enrichment\n",
    "    out_df_list = []\n",
    "    control_list = []\n",
    "    for gc, gdf in df_parsed.groupby('condition'):\n",
    "        gdf = pd.pivot(gdf, index=['Sum PEP Score', '# Peptides', 'Gene Symbol', 'condition'], columns='sample', values='abundance').reset_index()\n",
    "        \n",
    "        control_cols = [col for col in gdf.columns[4:] if 'Control' in col]\n",
    "        filtered_cols = [col for col in gdf.columns[4:] if 'Control' not in col]\n",
    "        \n",
    "        for control in control_cols:\n",
    "            _df = deepcopy(gdf)\n",
    "            _df = _df[_df[control] > 0]\n",
    "            for col in filtered_cols:\n",
    "                _df[col] = _df[col] / _df[control]\n",
    "                \n",
    "            _df.drop(control_cols, axis=1, inplace=True)\n",
    "            _df['Control'] = [key for key, val in sample_dict.items() if val == control][0]\n",
    "            _df['date'] = date\n",
    "            \n",
    "            out_df_list.append(_df.dropna(subset='Gene Symbol').fillna(0))\n",
    "            control_list.append((_df['Control'].values[0], _df['condition'].values[0]))\n",
    "    return out_df_list, control_list"
   ]
  },
  {
   "cell_type": "markdown",
   "id": "da87c35e-fd76-44ac-8951-f780539e2066",
   "metadata": {},
   "source": [
    "Now we go through each experiment, and compute enrichments. Then, all experiments get concatenated together for easier evaluation later. In each experiment, the samples are named by the DNA oligo used and the condition the cells used to make the lysate are grown in ."
   ]
  },
  {
   "cell_type": "code",
   "execution_count": null,
   "id": "5d79e76c-8bf9-4c52-bd74-904292ce0585",
   "metadata": {},
   "outputs": [],
   "source": [
    "df_list = []\n",
    "df = pd.read_csv(\"../../../data/mass-spec/20240905_salt_stat-phase/HJ_20240905_OTE_AurTS25_TMTpro_1.csv\")\n",
    "\n",
    "sample_dict = {\n",
    "    \"058\": \"Control\",\n",
    "    \"208\": \"yjbJ\",\n",
    "    \"210\": \"yadE\",\n",
    "    \"212\": \"yadI\",\n",
    "    \"214\": \"ybaY\",\n",
    "    \"216\": \"yagB\",\n",
    "    \"218\": \"yqjE\"\n",
    "}\n",
    "\n",
    "gc_dict = {\n",
    "    \"S\": 'stationary',\n",
    "    \"N\": 'salt'\n",
    "}\n",
    "out_df_list, control_list = parse_mass_spec(\"../../../data/mass-spec/20240905_salt_stat-phase/HJ_20240905_OTE_AurTS25_TMTpro_1.csv\", sample_dict, gc_dict)\n",
    "print(control_list)\n",
    "display(out_df_list[0].head(5))\n",
    "df_list.extend(out_df_list)"
   ]
  },
  {
   "cell_type": "code",
   "execution_count": null,
   "id": "11fa84f2-f933-48fc-a07f-afc79f22f2d4",
   "metadata": {},
   "outputs": [],
   "source": [
    "sample_dict = {\n",
    "    \"058\": \"Control\",\n",
    "    \"208\": \"yjbJ\",\n",
    "    \"210\": \"yadE\",\n",
    "    \"212\": \"yadI\",\n",
    "    \"214\": \"ybaY\",\n",
    "    \"216\": \"yagB\",\n",
    "    \"218\": \"yqjE\"\n",
    "}\n",
    "\n",
    "gc_dict = {\n",
    "    \"SA\": 'stationary, 37C',\n",
    "    \"NA\": 'salt, 37C'\n",
    "}\n",
    "\n",
    "out_df_list, control_list = parse_mass_spec(\"../../../data/mass-spec/20240905_salt_stat-phase/HJ_20240905_OTE_AurTS25_TMTpro_2.csv\", sample_dict, gc_dict)\n",
    "print(control_list)\n",
    "display(out_df_list[0].head(5))\n",
    "df_list.extend(out_df_list)"
   ]
  },
  {
   "cell_type": "code",
   "execution_count": null,
   "id": "f688087e-ae2d-4ede-80f7-69ec37b7671b",
   "metadata": {},
   "outputs": [],
   "source": [
    "df = pd.read_excel(\"../../../data/mass-spec/20241031/HJ_20241031_OTE_AurTS25_sc90min_1.xlsx\")\n",
    "df.columns"
   ]
  },
  {
   "cell_type": "code",
   "execution_count": null,
   "id": "03cd95df-782e-4271-ac1d-ea97c3d16242",
   "metadata": {},
   "outputs": [],
   "source": [
    "sample_dict = {\n",
    "    \"058\": \"Control\",\n",
    "    \"496\": \"mglB_1\",\n",
    "    \"241\": \"araB_2\",\n",
    "    \"839\": \"Control_long\",\n",
    "    \"837\": \"Control_medium\",\n",
    "    \"835\": \"Control_short\",\n",
    "}\n",
    "\n",
    "gc_dict = {\n",
    "    \"C\": 'cAMP, 4C',\n",
    "    \"CH\": 'cAMP, 37C',\n",
    "    \"H\": 'glucose, 37C',\n",
    "    \"G\": 'glucose, 4C'\n",
    "}\n",
    "\n",
    "out_df_list, control_list = parse_mass_spec(\"../../../data/mass-spec/20241031/HJ_20241031_OTE_AurTS25_sc90min_1.xlsx\", sample_dict, gc_dict)\n",
    "print(control_list)\n",
    "display(out_df_list[0].head(5))\n",
    "df_list.extend(out_df_list)"
   ]
  },
  {
   "cell_type": "code",
   "execution_count": null,
   "id": "cf109304-dfdd-49cb-aec4-1d4d30202921",
   "metadata": {},
   "outputs": [],
   "source": [
    "df = pd.read_excel(\"../../../data/mass-spec/20241031/HJ_20241031_OTE_AurTS25_sc90min_2.xlsx\")\n",
    "df.columns"
   ]
  },
  {
   "cell_type": "code",
   "execution_count": null,
   "id": "167b0ecd-a9b2-450e-86c8-e975cbd15dfd",
   "metadata": {},
   "outputs": [],
   "source": [
    "sample_dict = {\n",
    "    \"058\": \"Control\",\n",
    "    \"054\": \"lacI_Oid\",\n",
    "    \"208\": \"yjbJ\",\n",
    "    \"216\": \"yagB\",\n",
    "}\n",
    "\n",
    "gc_dict = {\n",
    "    'S': 'stationary',\n",
    "    'N': 'salt',\n",
    "    'G': 'glucose',\n",
    "    'SA': 'stationary, 37C',\n",
    "    'NA': 'salt, 37C',\n",
    "    'GA': 'glucose, 37C'\n",
    "}\n",
    "\n",
    "file = \"../../../data/mass-spec/20241031/HJ_20241031_OTE_AurTS25_sc90min_2.xlsx\"\n",
    "out_df_list, control_list = parse_mass_spec(file, sample_dict, gc_dict)\n",
    "print(control_list)\n",
    "display(out_df_list[0].head(5))\n",
    "df_list.extend(out_df_list)"
   ]
  },
  {
   "cell_type": "code",
   "execution_count": null,
   "id": "72558cfe-0d85-40ac-86d5-4e9e0a3f6c80",
   "metadata": {},
   "outputs": [],
   "source": [
    "sample_dict = {\n",
    "    \"058\": \"Control\",\n",
    "    \"054\": \"lacI_Oid\",\n",
    "    \"208\": \"yjbJ\",\n",
    "    \"216\": \"yagB\",\n",
    "}\n",
    "\n",
    "gc_dict = {\n",
    "    'S': 'stationary, 4C',\n",
    "    'N': 'salt, 4C',\n",
    "    'G': 'glucose, 4C',\n",
    "    'SA': 'stationary, 37C',\n",
    "    'NA': 'salt, 37C',\n",
    "    'GA': 'glucose, 37C'\n",
    "}\n",
    "\n",
    "file = \"../../../data/mass-spec/20241105/HJ_20241031_OTE_AurTS25_sc90min_2.xlsx\"\n",
    "out_df_list, control_list = parse_mass_spec(file, sample_dict, gc_dict)\n",
    "print(control_list)\n",
    "display(out_df_list[0].head(5))\n",
    "df_list.extend(out_df_list)"
   ]
  },
  {
   "cell_type": "code",
   "execution_count": null,
   "id": "aa509fb0-1cc5-4258-b18d-f15f25584d7e",
   "metadata": {},
   "outputs": [],
   "source": [
    "df = pd.read_excel(\"../../../data/mass-spec/20241125/HJ_20241125_OTE_AurTS25_set1_proteins.xlsx\")\n",
    "df.columns"
   ]
  },
  {
   "cell_type": "code",
   "execution_count": null,
   "id": "b288720a-1748-40ac-94a2-807df11e487a",
   "metadata": {},
   "outputs": [],
   "source": [
    "sample_dict = {\n",
    "    \"208\": \"yjbJ\",\n",
    "    \"216\": \"yagB\",\n",
    "    '212': 'yadI',\n",
    "    '233': 'gyrA',\n",
    "    '829': 'acrZ',\n",
    "    '835': 'Control',\n",
    "    '837': 'Control_2',\n",
    "    '839': 'Control_3',\n",
    "    '174': 'mhpRp2',\n",
    "    '176': 'ygiW_1',\n",
    "    '178': 'ygiW_2',\n",
    "    '180': 'sohA',\n",
    "    '186': 'elaB',\n",
    "    '188': 'rcsBp2',\n",
    "    '192': 'galEp1',\n",
    "    '196': 'tisB'\n",
    "}\n",
    "\n",
    "gc_dict = {\n",
    "    'S': 'stationary',\n",
    "}\n",
    "\n",
    "file = \"../../../data/mass-spec/20241125/HJ_20241125_OTE_AurTS25_set1_proteins.xlsx\"\n",
    "\n",
    "out_df_list, control_list = parse_mass_spec(file, sample_dict, gc_dict)\n",
    "print(control_list)\n",
    "display(out_df_list[0].head(5))\n",
    "df_list.extend(out_df_list)"
   ]
  },
  {
   "cell_type": "code",
   "execution_count": null,
   "id": "6d401ec1-2d53-4739-9c2b-75004fa0b4dc",
   "metadata": {},
   "outputs": [],
   "source": [
    "df = pd.read_excel(\"../../../data/mass-spec/20241125/HJ_20241125_OTE_AurTS25_set2_proteins.xlsx\")\n",
    "df.columns"
   ]
  },
  {
   "cell_type": "code",
   "execution_count": null,
   "id": "33f7c133-38f4-4f38-930b-5b805bcf650e",
   "metadata": {},
   "outputs": [],
   "source": [
    "sample_dict = {\n",
    "    \"975\": \"pheMp\",\n",
    "    \"977\": \"furpb\",\n",
    "    '979': 'flda',\n",
    "    '981': 'ihfAp',\n",
    "    '983': 'ompRp3',\n",
    "    '985': 'ecnb',\n",
    "    '098': 'yqaE',\n",
    "    '208': 'yjbJ',\n",
    "    '214': 'ybaY',\n",
    "    '216': 'yagB',\n",
    "    '837': 'Control'\n",
    "}\n",
    "\n",
    "gc_dict = {\n",
    "    'P': 'phenazine',\n",
    "    'N1': 'salt',\n",
    "    'N2': 'salt2'\n",
    "}\n",
    "\n",
    "file = \"../../../data/mass-spec/20241125/HJ_20241125_OTE_AurTS25_set2_proteins.xlsx\"\n",
    "\n",
    "out_df_list, control_list = parse_mass_spec(file, sample_dict, gc_dict)\n",
    "\n",
    "print(control_list)\n",
    "display(out_df_list[0].head(5))\n",
    "df_list.extend(out_df_list)"
   ]
  },
  {
   "cell_type": "code",
   "execution_count": null,
   "id": "99ee427c-78a1-4a4c-8641-6c16d5d1246d",
   "metadata": {},
   "outputs": [],
   "source": [
    "df = pd.read_excel(\"../../../data/mass-spec/20241216/HJ_20241216_OTE_AurTS25_setR.xlsx\")\n",
    "df.columns"
   ]
  },
  {
   "cell_type": "code",
   "execution_count": null,
   "id": "feaed441-8af7-4fe7-ba37-e01a276fe607",
   "metadata": {},
   "outputs": [],
   "source": [
    "sample_dict = {\n",
    "    \"098\": \"yqaE\",\n",
    "    \"174\": \"mhpRp2\",\n",
    "    '176': 'ygiW_1',\n",
    "    '178': 'ygiW_2',\n",
    "    '180': 'sohA',\n",
    "    '182': 'kbpp4',\n",
    "    '186': 'elaB',\n",
    "    '188': 'rcsBp2',\n",
    "    '190': 'flda',\n",
    "    '192': 'galEp1',\n",
    "    '194': 'ompRp3',\n",
    "    '196': 'tisB',\n",
    "    '233': 'gyrA',\n",
    "    '829': 'acrZ',\n",
    "    '837': 'Control',\n",
    "    '839': 'Control2'\n",
    "}\n",
    "\n",
    "gc_dict = {\n",
    "    'S': 'stationary',\n",
    "}\n",
    "\n",
    "file = \"../../../data/mass-spec/20241216/HJ_20241216_OTE_AurTS25_setR.xlsx\"\n",
    "\n",
    "out_df_list, control_list = parse_mass_spec(file, sample_dict, gc_dict)\n",
    "\n",
    "print(control_list)\n",
    "display(out_df_list[0].head(5))\n",
    "df_list.extend(out_df_list)"
   ]
  },
  {
   "cell_type": "code",
   "execution_count": null,
   "id": "e8e1b5d3-5d19-4d2a-9d38-6f96ca6049ee",
   "metadata": {},
   "outputs": [],
   "source": [
    "df = pd.read_excel(\"../../../data/mass-spec/20241216/HJ_20241216_OTE_AurTS25_setB.xlsx\")\n",
    "df.columns"
   ]
  },
  {
   "cell_type": "code",
   "execution_count": null,
   "id": "a5ac65f3-08f5-4baa-ab0d-3d7a2f75954b",
   "metadata": {},
   "outputs": [],
   "source": [
    "sample_dict = {\n",
    "    \"975\": \"yqaE\",\n",
    "    \"977\": \"furpb\",\n",
    "    '979': 'flda',\n",
    "    '981': 'ihfAp',\n",
    "    '983': 'ompRp3',\n",
    "    '985': 'ecnb',\n",
    "    '829': 'acrZ',\n",
    "    '831': 'acrZ_2',\n",
    "    '833': 'marRp',\n",
    "    '841': 'dicCp',\n",
    "    '843': 'yqjE_2',\n",
    "    '851': 'galEp1',\n",
    "    '192': 'gyrA',\n",
    "    '829': 'acrZ',\n",
    "    '837': 'Control_medium',\n",
    "    '839': 'Control_short'\n",
    "}\n",
    "\n",
    "\n",
    "gc_dict = {\n",
    "    'P': 'phenazine',\n",
    "    'D': 'dipyridyl',\n",
    "}\n",
    "\n",
    "file = \"../../../data/mass-spec/20241216/HJ_20241216_OTE_AurTS25_setB.xlsx\"\n",
    "\n",
    "out_df_list, control_list = parse_mass_spec(file, sample_dict, gc_dict)\n",
    "\n",
    "print(control_list)\n",
    "display(out_df_list[0].head(5))\n",
    "df_list.extend(out_df_list)"
   ]
  },
  {
   "cell_type": "code",
   "execution_count": null,
   "id": "444f3286-42bb-431f-bb87-8714b51c311b",
   "metadata": {},
   "outputs": [],
   "source": [
    "df = pd.read_excel(\"../../../data/mass-spec/20241221/HJ_20241221_OTE_AurTS25_setR.xlsx\")\n",
    "df.columns"
   ]
  },
  {
   "cell_type": "code",
   "execution_count": null,
   "id": "72b9e0e0-6c64-4f3c-8494-89fae8e75d88",
   "metadata": {},
   "outputs": [],
   "source": [
    "sample_dict = {\n",
    "    \"231\": \"yahC\",\n",
    "    \"233\": \"gyrA\",\n",
    "    '839': 'Control',\n",
    "    '192': 'galEp1',\n",
    "    '481': 'rcsBp2',\n",
    "    '829': 'acrZ',\n",
    "    '831': 'acrZ_2',\n",
    "    '833': 'marRp',\n",
    "    '841': 'dicCp',\n",
    "    '843': 'aceBp',\n",
    "    '851': 'yqjE_2',\n",
    "    '182': 'kbpp4',\n",
    "    '849': 'rcsDp',\n",
    "    '853': 'araCp'\n",
    "}\n",
    "\n",
    "\n",
    "gc_dict = {\n",
    "    'A': 'arabinose',\n",
    "    'D': 'dipyridyl',\n",
    "    'X': 'xylose',\n",
    "    \n",
    "}\n",
    "\n",
    "file = \"../../../data/mass-spec/20241221/HJ_20241221_OTE_AurTS25_setR.xlsx\"\n",
    "\n",
    "out_df_list, control_list = parse_mass_spec(file, sample_dict, gc_dict)\n",
    "\n",
    "print(control_list)\n",
    "display(out_df_list[0].head(5))\n",
    "df_list.extend(out_df_list)"
   ]
  },
  {
   "cell_type": "code",
   "execution_count": null,
   "id": "16bf7915-9ae0-4a0d-9439-339f89605e4b",
   "metadata": {},
   "outputs": [],
   "source": [
    "df = pd.read_excel(\"../../../data/mass-spec/20241221/HJ_20241221_OTE_AurTS25_setB.xlsx\")\n",
    "df.columns"
   ]
  },
  {
   "cell_type": "code",
   "execution_count": null,
   "id": "c6565f24-2e97-4194-997e-224d78f39ee1",
   "metadata": {},
   "outputs": [],
   "source": [
    "sample_dict = {\n",
    "    \"235\": \"TSS_1414_1\",\n",
    "    \"237\": \"TSS_1414_2\",\n",
    "    '239': 'araB_1',\n",
    "    '241': 'araB_2',\n",
    "    '484': 'tmaR_1',\n",
    "    '489': 'tmaR_2',\n",
    "    '496': 'mglB_1',\n",
    "    '492': 'tmaR_3',\n",
    "    '498': 'rspA_1',\n",
    "    '500': 'rspA_2',\n",
    "    '186': 'elaB',\n",
    "    '214': 'ybaY',\n",
    "    '855': 'mglB_2',\n",
    "    '837': 'Control_medium',\n",
    "    '839': 'Control_long',\n",
    "    '981': 'ihfAp'\n",
    "}\n",
    "\n",
    "\n",
    "gc_dict = {\n",
    "    'A': 'arabinose',\n",
    "    'G': 'glucose',\n",
    "    'D': 'dipyridyl',\n",
    "    'X': 'Xylose'\n",
    "}\n",
    "\n",
    "file = \"../../../data/mass-spec/20241221/HJ_20241221_OTE_AurTS25_setB.xlsx\"\n",
    "\n",
    "out_df_list, control_list = parse_mass_spec(file, sample_dict, gc_dict)\n",
    "\n",
    "print(control_list)\n",
    "display(out_df_list[0].head(5))\n",
    "df_list.extend(out_df_list)"
   ]
  },
  {
   "cell_type": "code",
   "execution_count": null,
   "id": "3976568a-28f0-444f-9e2b-1f2cb5642d67",
   "metadata": {},
   "outputs": [],
   "source": [
    "df = pd.read_excel(\"../../../data/mass-spec/20250113_analysis/HJ_20250112_OTE_AurTS25_setR.xlsx\")\n",
    "df.columns"
   ]
  },
  {
   "cell_type": "code",
   "execution_count": null,
   "id": "07d64832-d7f7-4fa1-8483-f90bda9153f0",
   "metadata": {},
   "outputs": [],
   "source": [
    "sample_dict = {\n",
    "    '738': 'cpxR',\n",
    "    \"740\": \"intE\",\n",
    "    \"742\": \"yadE2\",\n",
    "    '744': 'ybeDp',\n",
    "    '746': 'ompRp2',\n",
    "    '748': 'acrA',\n",
    "    '839': 'Control_long',\n",
    "    '186': 'elaB',\n",
    "    '214': 'ybaY',\n",
    "    '837': 'Control_medium',\n",
    "    '855': 'mglB_2',\n",
    "    '981': 'ihfAp',\n",
    "    '182': 'kbpp4',\n",
    "    '839': 'Control_long',\n",
    "    '849': 'rcsDp',\n",
    "    '853': 'araCp',\n",
    "}\n",
    "\n",
    "\n",
    "gc_dict = {\n",
    "    'J': 'gentamicin',\n",
    "    'G': 'glucose',\n",
    "    'X': 'Xylose'\n",
    "}\n",
    "\n",
    "file = \"../../../data/mass-spec/20250113_analysis/HJ_20250112_OTE_AurTS25_setR.xlsx\"\n",
    "\n",
    "out_df_list, control_list = parse_mass_spec(file, sample_dict, gc_dict)\n",
    "\n",
    "print(control_list)\n",
    "display(out_df_list[0].head(5))\n",
    "df_list.extend(out_df_list)"
   ]
  },
  {
   "cell_type": "code",
   "execution_count": null,
   "id": "28bbb213-2d6d-4236-9db4-3a4feeaded8f",
   "metadata": {},
   "outputs": [],
   "source": [
    "df = pd.read_excel(\"../../../data/mass-spec/20250113_analysis/HJ_20250112_OTE_AurTS25_setB.xlsx\")\n",
    "df.columns"
   ]
  },
  {
   "cell_type": "code",
   "execution_count": null,
   "id": "551edf48-23c2-41cc-a7da-f53ec6f3e575",
   "metadata": {},
   "outputs": [],
   "source": [
    "sample_dict = {\n",
    "    '231': 'yahC',\n",
    "    \"233\": \"gyrA\",\n",
    "    \"235\": \"TSS_1414_1\",\n",
    "    '237': 'TSS_1414_2',\n",
    "    '239': 'araB_1',\n",
    "    '241': 'araB_2',\n",
    "    '481': 'rcsBp2',\n",
    "    '484': 'tmaR_1',\n",
    "    '489': 'tmaR_2',\n",
    "    '492': 'tmaR_3',\n",
    "    '496': 'mglB_1',\n",
    "    '498': 'rspA_1',\n",
    "    '500': 'rspA_2',\n",
    "    '839': 'Control_long',\n",
    "    '837': 'Control_medium',\n",
    "    '208': 'yjbJ'\n",
    "}\n",
    "\n",
    "\n",
    "gc_dict = {\n",
    "    'S': 'stationary',\n",
    "    'A': 'arabinose',\n",
    "}\n",
    "\n",
    "file = \"../../../data/mass-spec/20250113_analysis/HJ_20250112_OTE_AurTS25_setB.xlsx\"\n",
    "\n",
    "out_df_list, control_list = parse_mass_spec(file, sample_dict, gc_dict)\n",
    "\n",
    "print(control_list)\n",
    "display(out_df_list[0].head(5))\n",
    "df_list.extend(out_df_list)"
   ]
  },
  {
   "cell_type": "code",
   "execution_count": null,
   "id": "4c29599c-5155-4eb7-8a38-b9f04baa073d",
   "metadata": {},
   "outputs": [],
   "source": [
    "df = pd.read_excel(\"../../../data/mass-spec/20250124_analysis/HJ_20250122_OTE_AurTS25_setB.xlsx\")\n",
    "df.columns"
   ]
  },
  {
   "cell_type": "code",
   "execution_count": null,
   "id": "1d1e70db-9bd2-47a3-b5c1-eded8bf3f52e",
   "metadata": {},
   "outputs": [],
   "source": [
    "sample_dict = {\n",
    "    '738': 'cpxR',\n",
    "    \"740\": \"intE\",\n",
    "    \"742\": \"yadE2\",\n",
    "    '744': 'ybeDp',\n",
    "    '746': 'ompRp2',\n",
    "    '748': 'acrA',\n",
    "    '839': 'Control_long',\n",
    "    '975': 'elaB',\n",
    "    '977': 'furpb',\n",
    "    '979': 'flda',\n",
    "    '981': 'ihfAp',\n",
    "    '983': 'ompRp3',\n",
    "    '985': 'ecnb',\n",
    "    '839': 'Control_long',\n",
    "    '212': 'yadI',\n",
    "}\n",
    "\n",
    "\n",
    "gc_dict = {\n",
    "    'S': 'stationary',\n",
    "    'J': 'gentamicin',\n",
    "    'P': 'phenazine'\n",
    "}\n",
    "\n",
    "file = \"../../../data/mass-spec/20250124_analysis/HJ_20250122_OTE_AurTS25_setB.xlsx\"\n",
    "\n",
    "out_df_list, control_list = parse_mass_spec(file, sample_dict, gc_dict)\n",
    "\n",
    "print(control_list)\n",
    "display(out_df_list[0].head(5))\n",
    "df_list.extend(out_df_list)"
   ]
  },
  {
   "cell_type": "code",
   "execution_count": null,
   "id": "b0487542-3e5c-41ee-8bd8-54a3e9ceb919",
   "metadata": {},
   "outputs": [],
   "source": [
    "df = pd.read_excel(\"../../../data/mass-spec/20250124_analysis/HJ_20250122_OTE_AurTS25_setR.xlsx\")\n",
    "df.columns"
   ]
  },
  {
   "cell_type": "code",
   "execution_count": null,
   "id": "7abed87d-0506-4e6c-89ad-6889a360b067",
   "metadata": {},
   "outputs": [],
   "source": [
    "sample_dict = {\n",
    "    '875': 'uofp',\n",
    "    \"878\": \"lpp1\",\n",
    "    \"882\": \"lpp2\",\n",
    "    '885': 'blr',\n",
    "    '889': 'ybiY1',\n",
    "    '892': 'ybiY2',\n",
    "    '895': 'ybiY3',\n",
    "    '898': 'araCp_2',\n",
    "    '905': 'zapB1',\n",
    "    '083': 'zapB2',\n",
    "    '085': 'zapB3',\n",
    "    '837': 'Control_medium',\n",
    "    '839': 'Control_long',\n",
    "    '087': 'ompRp2',\n",
    "    '089': 'acrA',\n",
    "}\n",
    "\n",
    "\n",
    "gc_dict = {\n",
    "    'G': 'glucose',\n",
    "    'S': 'stationary',\n",
    "}\n",
    "\n",
    "file = \"../../../data/mass-spec/20250124_analysis/HJ_20250122_OTE_AurTS25_setR.xlsx\"\n",
    "\n",
    "out_df_list, control_list = parse_mass_spec(file, sample_dict, gc_dict)\n",
    "\n",
    "print(control_list)\n",
    "display(out_df_list[0].head(5))\n",
    "df_list.extend(out_df_list)"
   ]
  },
  {
   "cell_type": "code",
   "execution_count": null,
   "id": "bfd356df-319f-4b9d-9106-609a922973a4",
   "metadata": {},
   "outputs": [],
   "source": [
    "df = pd.read_excel(\"../../../data/mass-spec/20250213_analysis/HJ_20250210_OTE_AurTS25_setB.xlsx\")\n",
    "df.columns"
   ]
  },
  {
   "cell_type": "code",
   "execution_count": null,
   "id": "9167a217-b27d-49e2-b616-f10aebf8190a",
   "metadata": {},
   "outputs": [],
   "source": [
    "sample_dict = {\n",
    "    '853': 'araCp',\n",
    "    \"849\": \"rcsDp\",\n",
    "    \"839\": \"Control_long\",\n",
    "    '182': 'kbpp4',\n",
    "    '837': 'Control_medium',\n",
    "    '218': 'yqjE',\n",
    "    '214': 'ybaY',\n",
    "    '212': 'yadI',\n",
    "    '210': 'yadE',\n",
    "    '208': 'yjbJ',\n",
    "    '098': 'yqaE',\n",
    "}\n",
    "\n",
    "\n",
    "gc_dict = {\n",
    "    'X': 'xylose',\n",
    "    'S': 'stationary',\n",
    "    'N': 'salt'\n",
    "}\n",
    "\n",
    "file = \"../../../data/mass-spec/20250213_analysis/HJ_20250210_OTE_AurTS25_setB.xlsx\"\n",
    "\n",
    "out_df_list, control_list = parse_mass_spec(file, sample_dict, gc_dict)\n",
    "\n",
    "print(control_list)\n",
    "display(out_df_list[0].head(5))\n",
    "df_list.extend(out_df_list)"
   ]
  },
  {
   "cell_type": "code",
   "execution_count": null,
   "id": "df026974-8769-4d69-bba2-826beea70283",
   "metadata": {},
   "outputs": [],
   "source": [
    "df = pd.read_excel(\"../../../data/mass-spec/20250213_analysis/HJ_20250210_OTE_AurTS25_setR.xlsx\")\n",
    "df.columns"
   ]
  },
  {
   "cell_type": "code",
   "execution_count": null,
   "id": "55ec9d2d-ccf6-42f9-a981-15cee8342b90",
   "metadata": {},
   "outputs": [],
   "source": [
    "sample_dict = {\n",
    "    '905': 'zapB1',\n",
    "    \"981\": \"ihfAp\",\n",
    "    \"839\": \"Control_long\",\n",
    "    '898': 'araCp_2',\n",
    "    '895': 'ybiY3',\n",
    "    '892': 'ybiY2',\n",
    "    '889': 'ybiY1',\n",
    "    '885': 'blr',\n",
    "    '882': 'lpp2',\n",
    "    '878': 'lpp1',\n",
    "    '875': 'uofp',\n",
    "    '855': 'mglB_2',\n",
    "    '214': 'ybaY',\n",
    "    '186': 'elaB',\n",
    "    '085': 'zapB3',\n",
    "    '083': 'zapB2'\n",
    "}\n",
    "\n",
    "\n",
    "gc_dict = {\n",
    "    'G': 'glucose',\n",
    "    'X': 'xylose'\n",
    "}\n",
    "\n",
    "file = \"../../../data/mass-spec/20250213_analysis/HJ_20250210_OTE_AurTS25_setR.xlsx\"\n",
    "\n",
    "out_df_list, control_list = parse_mass_spec(file, sample_dict, gc_dict)\n",
    "\n",
    "print(control_list)\n",
    "display(out_df_list[0].head(5))\n",
    "df_list.extend(out_df_list)"
   ]
  },
  {
   "cell_type": "code",
   "execution_count": null,
   "id": "4d6866b5-ae84-4d51-8730-73093b341bbd",
   "metadata": {},
   "outputs": [],
   "source": [
    "df = pd.read_excel(\"../../../data/mass-spec/20250303_analysis/HJ_20250303_OTE_AurTS25_set1.xlsx\")\n",
    "df.columns"
   ]
  },
  {
   "cell_type": "code",
   "execution_count": null,
   "id": "28178568-cede-44ed-a915-4f9c4138638a",
   "metadata": {},
   "outputs": [],
   "source": [
    "sample_dict = {\n",
    "    '851': 'yqjE_2',\n",
    "    \"843\": \"aceBp\",\n",
    "    \"841\": \"dicCp\",\n",
    "    '839': 'Control_long',\n",
    "    '833': 'marRp',\n",
    "    '831': 'acrZ_2',\n",
    "    '829': 'acrZ',\n",
    "    '192': 'galEp1',\n",
    "    '985': 'ecnb',\n",
    "    '983': 'ompRp3',\n",
    "    '981': 'ihfAp',\n",
    "    '979': 'flda',\n",
    "    '977': 'furpb',\n",
    "    '975': 'pheMp',\n",
    "    '837': 'Control_medium',\n",
    "}\n",
    "\n",
    "\n",
    "gc_dict = {\n",
    "    'D': 'dipyridyl',\n",
    "    'P': 'phenazine'\n",
    "}\n",
    "\n",
    "file = \"../../../data/mass-spec/20250303_analysis/HJ_20250303_OTE_AurTS25_set1.xlsx\"\n",
    "\n",
    "out_df_list, control_list = parse_mass_spec(file, sample_dict, gc_dict)\n",
    "\n",
    "print(control_list)\n",
    "display(out_df_list[0].head(5))\n",
    "df_list.extend(out_df_list)"
   ]
  },
  {
   "cell_type": "code",
   "execution_count": null,
   "id": "e8e16b77-33d2-48d5-899e-db8f6af90002",
   "metadata": {},
   "outputs": [],
   "source": [
    "df = pd.read_excel(\"../../../data/mass-spec/20250303_analysis/HJ_20250303_OTE_AurTS25_set2.xlsx\")\n",
    "df.columns"
   ]
  },
  {
   "cell_type": "code",
   "execution_count": null,
   "id": "ac9f3d2b-399f-4b72-92e4-606f0ff27736",
   "metadata": {},
   "outputs": [],
   "source": [
    "sample_dict = {\n",
    "    '188': 'rcsBp2',\n",
    "    \"186\": \"elaB\",\n",
    "    \"176\": \"ygiW_1\",\n",
    "    '174': 'mhpRp2',\n",
    "    '098': 'yqaE',\n",
    "    '089': 'acrA',\n",
    "    '087': 'ompRp2',\n",
    "    '837': 'Control_medium',\n",
    "    '218': 'yqjE',\n",
    "    '214': 'ybaY',\n",
    "    '210': 'yadE',\n",
    "    '839': 'Control_long',\n",
    "    '194': 'ompRp3',\n",
    "    '190': 'fldA',\n",
    "}\n",
    "\n",
    "\n",
    "gc_dict = {\n",
    "    '$': 'stationary, high vol',\n",
    "    'N': 'salt'\n",
    "}\n",
    "\n",
    "file = \"../../../data/mass-spec/20250303_analysis/HJ_20250303_OTE_AurTS25_set2.xlsx\"\n",
    "\n",
    "out_df_list, control_list = parse_mass_spec(file, sample_dict, gc_dict)\n",
    "\n",
    "print(control_list)\n",
    "display(out_df_list[0].head(5))\n",
    "df_list.extend(out_df_list)"
   ]
  },
  {
   "cell_type": "code",
   "execution_count": null,
   "id": "afca48b7-acac-4276-89ef-afaa3291ae1b",
   "metadata": {},
   "outputs": [],
   "source": [
    "df = pd.read_excel(\"../../../data/mass-spec/20250307/HJ_20250325_OTE_AurTS25_0307.xlsx\")\n",
    "df.columns"
   ]
  },
  {
   "cell_type": "code",
   "execution_count": null,
   "id": "fed105d7-09d3-4bd5-9a19-9d75d32f880c",
   "metadata": {},
   "outputs": [],
   "source": [
    "sample_dict = {\n",
    "    '839': 'Control_long',\n",
    "    \"738\": \"cpxR\",\n",
    "    \"655\": \"cusC2\",\n",
    "    '653': 'cusC',\n",
    "    '837': 'Control_medium',\n",
    "    '196': 'tisB',\n",
    "    '186': 'elaB',\n",
    "    '985': 'ecnb',\n",
    "    '651': 'yagB2',\n",
    "    '216': 'yagB',\n",
    "}\n",
    "\n",
    "\n",
    "gc_dict = {\n",
    "    'P': 'H2O2',\n",
    "    'H': 'heatshock',\n",
    "    'C1': 'copper1',\n",
    "    'C2': 'copper2',\n",
    "    'L': 'Leucine'\n",
    "}\n",
    "\n",
    "file = \"../../../data/mass-spec/20250307/HJ_20250325_OTE_AurTS25_0307.xlsx\"\n",
    "\n",
    "out_df_list, control_list = parse_mass_spec(file, sample_dict, gc_dict)\n",
    "\n",
    "print(control_list)\n",
    "display(out_df_list[0].head(5))\n",
    "df_list.extend(out_df_list)"
   ]
  },
  {
   "cell_type": "code",
   "execution_count": null,
   "id": "526905ac-11cc-44ba-969f-9f5db5968f2f",
   "metadata": {},
   "outputs": [],
   "source": [
    "df = pd.read_excel(\"../../../data/mass-spec/20250326/HJ_20250325_OTE_AurTS25_0313.xlsx\")\n",
    "df.columns"
   ]
  },
  {
   "cell_type": "code",
   "execution_count": null,
   "id": "0c6f3c93-28d0-46f5-894e-eca5db17e328",
   "metadata": {},
   "outputs": [],
   "source": [
    "sample_dict = {\n",
    "    '839': 'Control_long',\n",
    "    \"738\": \"cpxR\",\n",
    "    \"657\": \"icdC\",\n",
    "    '212': 'yadI',\n",
    "    '837': 'Control_medium',\n",
    "    '196': 'tisB',\n",
    "    '186': 'elaB',\n",
    "    '985': 'ecnb',\n",
    "    '651': 'yagB2',\n",
    "    '216': 'yagB',\n",
    "}\n",
    "\n",
    "\n",
    "gc_dict = {\n",
    "    'P': 'H2O2',\n",
    "    'H': 'heatshock',\n",
    "    'LB1': 'LB1',\n",
    "    'LB2': 'LB2',\n",
    "    'Le': 'Leucine'\n",
    "}\n",
    "\n",
    "file = \"../../../data/mass-spec/20250326/HJ_20250325_OTE_AurTS25_0313.xlsx\"\n",
    "\n",
    "out_df_list, control_list = parse_mass_spec(file, sample_dict, gc_dict)\n",
    "\n",
    "print(control_list)\n",
    "display(out_df_list[0].head(5))\n",
    "df_list.extend(out_df_list)"
   ]
  },
  {
   "cell_type": "markdown",
   "id": "a34146eb-6c70-4907-8ab8-0d1f94877d3f",
   "metadata": {},
   "source": [
    "## Combine all the data sets\n",
    "\n",
    "Now we can combine all datasets into a single dataframe."
   ]
  },
  {
   "cell_type": "code",
   "execution_count": null,
   "id": "e5b01f58-acf2-4cfe-96a7-0255fc9a9c79",
   "metadata": {},
   "outputs": [],
   "source": [
    "df_combined = pd.concat([pd.melt(df, id_vars=['Sum PEP Score', '# Peptides', 'Gene Symbol', 'condition', 'Control', 'date'], value_name='enrichment') for df in df_list])"
   ]
  },
  {
   "cell_type": "code",
   "execution_count": null,
   "id": "e4cdef97-3ca1-4e66-8c6a-5f00061cb33d",
   "metadata": {},
   "outputs": [],
   "source": [
    "df_combined.reset_index(drop=True)"
   ]
  },
  {
   "cell_type": "markdown",
   "id": "d285bfe5-22d8-4523-bbb7-8aa41ae79b6e",
   "metadata": {},
   "source": [
    "## Filter for DNA binding proteins"
   ]
  },
  {
   "cell_type": "markdown",
   "id": "a1b0ace2",
   "metadata": {},
   "source": [
    "In some samples we find enrichment for proteins that are not DNA binding proteins. We use RegulonDB to get a list of all transcription factors."
   ]
  },
  {
   "cell_type": "code",
   "execution_count": null,
   "id": "ac47b6d6-f3d9-4bbf-8336-6e20716bd56f",
   "metadata": {},
   "outputs": [],
   "source": [
    "from bson import decode_all\n",
    "\n",
    "with open(\"../../../data/metadata/regulonDatamart.bson\", \"rb\") as file:\n",
    "    data = file.read()\n",
    "\n",
    "# Decode all BSON documents into a list of dictionaries\n",
    "documents = decode_all(data)\n",
    "len(documents)\n",
    "df = pd.DataFrame(documents)\n",
    "\n",
    "name_list = []\n",
    "syn_list = [] \n",
    "type_list = []\n",
    "\n",
    "for x in df['regulator'].values:\n",
    "    name_list.append(x['abbreviatedName'])\n",
    "    if 'synonyms' in x.keys():\n",
    "        syn_list.append(x['synonyms'])\n",
    "    else:\n",
    "        syn_list.append([''])\n",
    "    type_list.append(x['type'])\n",
    "\n",
    "df_TF = pd.DataFrame({\"name\": name_list, 'synonyms':syn_list, 'type': type_list})"
   ]
  },
  {
   "cell_type": "markdown",
   "id": "7093c8f1-35bf-426c-9bb2-6861fd097c12",
   "metadata": {},
   "source": [
    "## Plot specific samples"
   ]
  },
  {
   "cell_type": "markdown",
   "id": "eded6890",
   "metadata": {},
   "source": [
    "Using the dataframe, we can make enrichment plots for specific examples shown in the paper."
   ]
  },
  {
   "cell_type": "code",
   "execution_count": null,
   "id": "a443bb32-7834-4c7f-8ba1-96842be76e94",
   "metadata": {},
   "outputs": [],
   "source": [
    "def plot_mass_spec(df, sample, filter_binding_proteins=False, highlighted_genes=[], filter_control=None):\n",
    "    \n",
    "    df_filtered = df[df['sample'] == sample]\n",
    "\n",
    "    \n",
    "    if filter_binding_proteins:\n",
    "        # Create a set of lowercased binding protein names from df_TF\n",
    "        binding_names = set(df_TF['name'].str.lower())\n",
    "        binding_names |= {syn.lower() for synonyms in df_TF['synonyms'] for syn in synonyms}\n",
    "        \n",
    "        # Filter df_filtered by checking if the lower-case gene symbol is in the set\n",
    "        df_filtered = df_filtered[df_filtered['Gene Symbol'].str.lower().isin(binding_names)]\n",
    "\n",
    "    if filter_control != None:\n",
    "        df_filtered = df_filtered[df_filtered['Control'] == filter_control]\n",
    "        \n",
    "\n",
    "    gdf = df_filtered.groupby(['condition', 'date'])\n",
    "    n_conditions = len(gdf)\n",
    "\n",
    "    fig, ax = plt.subplots(1, n_conditions, figsize=(1*n_conditions, 2), sharey=True)\n",
    "    if n_conditions == 1:\n",
    "        ax = [ax]\n",
    "            \n",
    "    for i, ((condition, date), _df) in enumerate(gdf):\n",
    "        x = np.random.randn(len(_df['enrichment']))\n",
    "        ax[i].scatter(x, _df['enrichment'].values, s=12, linewidth=0)\n",
    "        for gene in highlighted_genes:\n",
    "            ind = np.where(_df['Gene Symbol'] == gene)\n",
    "            ax[i].scatter(x[ind], _df['enrichment'].values[ind], s=12)    \n",
    "        ax[i].set_yscale('log')\n",
    "        ax[i].set_title(condition+'\\n'+date)\n",
    "        ax[i].set_xticks([])\n",
    "        ax[i].grid(True)\n",
    "        \n",
    "        \n",
    "    ax[0].set_ylabel(\"enrichment\")\n",
    "    plt.tight_layout()\n",
    "\n",
    "        \n",
    "    return fig, ax, df_filtered.sort_values('enrichment', ascending=False)\n",
    "        "
   ]
  },
  {
   "cell_type": "code",
   "execution_count": null,
   "id": "9d4ad998",
   "metadata": {},
   "outputs": [],
   "source": [
    "fig, ax, df = plot_mass_spec(df_combined, 'ihfAp', filter_binding_proteins=False, highlighted_genes=['ihfA', 'ihfB'], filter_control='837')\n",
    "df.head(20)\n",
    "fig.savefig(\"ihfAp_mass-spec.pdf\")"
   ]
  },
  {
   "cell_type": "code",
   "execution_count": null,
   "id": "85545bf2",
   "metadata": {},
   "outputs": [],
   "source": [
    "fig, ax, df = plot_mass_spec(df_combined, 'dicCp', filter_binding_proteins=True, highlighted_genes=['arcA', 'ygbI'], filter_control='839')\n",
    "df.head(20)\n",
    "fig.savefig(\"dicCp_mass-spec.pdf\")"
   ]
  },
  {
   "cell_type": "code",
   "execution_count": null,
   "id": "5f427c9d",
   "metadata": {},
   "outputs": [],
   "source": [
    "fig, ax, df = plot_mass_spec(df_combined, 'mhpRp2', filter_binding_proteins=True, highlighted_genes=['arcA', 'galS'], filter_control='837')\n",
    "fig.savefig(\"mhpRp2_mass-spec.pdf\")\n",
    "df.head(20)"
   ]
  },
  {
   "cell_type": "code",
   "execution_count": null,
   "id": "3a1a9757",
   "metadata": {},
   "outputs": [],
   "source": [
    "fig, ax, df = plot_mass_spec(df_combined, 'ybiY1', filter_binding_proteins=True, highlighted_genes=['yciT'])#, filter_control='837')\n",
    "fig.savefig(\"ybiY1_mass-spec.pdf\")\n",
    "df.head(20)"
   ]
  },
  {
   "cell_type": "code",
   "execution_count": null,
   "id": "50aff57b",
   "metadata": {},
   "outputs": [],
   "source": [
    "fig, ax, df = plot_mass_spec(df_combined, 'ybiY2', filter_binding_proteins=True, highlighted_genes=['yciT'])#, filter_control='837')\n",
    "fig.savefig(\"ybiY2_mass-spec.pdf\")\n",
    "df.head(20)"
   ]
  },
  {
   "cell_type": "code",
   "execution_count": null,
   "id": "081e145a",
   "metadata": {},
   "outputs": [],
   "source": [
    "fig, ax, df = plot_mass_spec(df_combined, 'ybiY3', filter_binding_proteins=True, highlighted_genes=['yciT'])#, filter_control='837')\n",
    "fig.savefig(\"ybiY3_mass-spec.pdf\")\n",
    "df.head(20)"
   ]
  },
  {
   "cell_type": "code",
   "execution_count": null,
   "id": "b3bd966c",
   "metadata": {},
   "outputs": [],
   "source": [
    "fig, ax, df = plot_mass_spec(df_combined, 'gyrA', filter_binding_proteins=True, highlighted_genes=['ygbI', \"galR\"], filter_control='839')\n",
    "fig.savefig(\"gyrA_mass-spec.pdf\")\n",
    "df.head(20)"
   ]
  },
  {
   "cell_type": "code",
   "execution_count": null,
   "id": "43f7f9b1",
   "metadata": {},
   "outputs": [],
   "source": [
    "fig, ax, df = plot_mass_spec(df_combined, 'sohA', highlighted_genes=['prlF'], filter_control='839')\n",
    "fig.savefig(\"sohA_mass-spec.pdf\")\n",
    "df.head(20)"
   ]
  },
  {
   "cell_type": "code",
   "execution_count": null,
   "id": "1f78730a",
   "metadata": {},
   "outputs": [],
   "source": [
    "fig, ax, df = plot_mass_spec(df_combined, 'TSS_1414_2', filter_binding_proteins=True, highlighted_genes=['ihfA', 'ihfB'])#, filter_control='837')\n",
    "#fig.savefig(\"yahM_mass-spec.pdf\")\n",
    "df.head(20)"
   ]
  },
  {
   "cell_type": "code",
   "execution_count": null,
   "id": "4033e73c",
   "metadata": {},
   "outputs": [],
   "source": [
    "fig, ax, df = plot_mass_spec(df_combined[['stationary' in x for x in df_combined['condition']]], 'yagB', filter_binding_proteins=True, highlighted_genes=['xynR'])#, filter_control='837')\n",
    "fig.savefig(\"yagB_mass-spec.pdf\")\n",
    "df.head(20)"
   ]
  },
  {
   "cell_type": "code",
   "execution_count": null,
   "id": "baa9d2bb",
   "metadata": {},
   "outputs": [],
   "source": [
    "fig, ax, df = plot_mass_spec(df_combined, 'cpxR', filter_binding_proteins=True, highlighted_genes=['cpxR'])#, filter_control='837')\n",
    "fig.savefig(\"cpxR_mass-spec.pdf\")\n",
    "df.head(20)"
   ]
  },
  {
   "cell_type": "code",
   "execution_count": null,
   "id": "f8288328",
   "metadata": {},
   "outputs": [],
   "source": [
    "fig, ax, df = plot_mass_spec(df_combined, 'TSS_1414_2', filter_binding_proteins=False, highlighted_genes=['ihfA', 'ihfB'])#, filter_control='837')\n",
    "fig.savefig(\"yahM_mass-spec.pdf\")\n",
    "df.head(20)"
   ]
  },
  {
   "cell_type": "code",
   "execution_count": null,
   "id": "76c14629",
   "metadata": {},
   "outputs": [],
   "source": [
    "fig, ax, df = plot_mass_spec(df_combined, 'intE', filter_binding_proteins=True, highlighted_genes=['yhaJ'])#, filter_control='837')\n",
    "fig.savefig(\"ymfH_mass-spec.pdf\")\n",
    "df.head(20)"
   ]
  },
  {
   "cell_type": "code",
   "execution_count": null,
   "id": "4009f43c",
   "metadata": {},
   "outputs": [],
   "source": [
    "fig, ax, df = plot_mass_spec(df_combined[df_combined['condition'] == 'stationary'], 'galEp1', filter_binding_proteins=True, highlighted_genes=['galR'], filter_control='837')\n",
    "fig.savefig(\"galE_mass-spec.pdf\")\n",
    "df.head(20)"
   ]
  },
  {
   "cell_type": "code",
   "execution_count": null,
   "id": "f6f07d9b",
   "metadata": {},
   "outputs": [],
   "source": [
    "fig, ax, df = plot_mass_spec(df_combined, 'cusC', filter_binding_proteins=True)#, highlighted_genes=['galR'], filter_control='837')\n",
    "fig.savefig(\"cusC_mass-spec.pdf\")\n",
    "df.head(20)"
   ]
  },
  {
   "cell_type": "code",
   "execution_count": null,
   "id": "e61e4e93",
   "metadata": {},
   "outputs": [],
   "source": [
    "fig, ax, df = plot_mass_spec(df_combined, 'elaB', filter_binding_proteins=True)#, filter_control='837')\n",
    "fig.savefig(\"elaB_mass-spec.pdf\")\n",
    "df.head(20)"
   ]
  },
  {
   "cell_type": "code",
   "execution_count": null,
   "id": "10b97fc9",
   "metadata": {},
   "outputs": [],
   "source": [
    "fig, ax, df = plot_mass_spec(df_combined, 'ybaY', filter_binding_proteins=True)#, filter_control='837')\n",
    "fig.savefig(\"ybaY_mass-spec.pdf\")\n",
    "df.head(20)"
   ]
  },
  {
   "cell_type": "code",
   "execution_count": null,
   "id": "c8908bab",
   "metadata": {},
   "outputs": [],
   "source": [
    "fig, ax, df = plot_mass_spec(df_combined, 'ygiW_2', filter_binding_proteins=True, highlighted_genes=['tyrR'], filter_control='839')\n",
    "fig.savefig(\"ygiW_mass-spec.pdf\")\n",
    "df.head(20)"
   ]
  },
  {
   "cell_type": "code",
   "execution_count": null,
   "id": "39073348",
   "metadata": {},
   "outputs": [],
   "source": [
    "fig, ax, df = plot_mass_spec(df_combined, 'yqjE_2', filter_binding_proteins=True)#), highlighted_genes=['tyrR'], filter_control='839')\n",
    "#fig.savefig(\"ygiW_mass-spec.pdf\")\n",
    "df.head(20)"
   ]
  },
  {
   "cell_type": "code",
   "execution_count": null,
   "id": "d86040b8",
   "metadata": {},
   "outputs": [],
   "source": [
    "df_comp = pd.read_csv(\"../../../data/sequence_scanning/arcA_dicCp.csv\", comment='#')\n",
    "df_comp['TF'] = [x.split('_')[0] for x in df_comp['Target_ID']]\n",
    "display(df_comp.head())\n",
    "\n",
    "fig, ax = plt.subplots(figsize=(2, 4))\n",
    "x = np.random.randn(len(df_comp))\n",
    "ax.scatter(np.random.randn(len(df_comp)), np.log10(df_comp['p-value'].values ), s=15)\n",
    "ax.set_xticks([])\n",
    "fig.savefig(\"dicCp_tomtom.pdf\")"
   ]
  },
  {
   "cell_type": "code",
   "execution_count": null,
   "id": "be9f8f53",
   "metadata": {},
   "outputs": [],
   "source": [
    "df_comp = pd.read_csv(\"../../../data/sequence_scanning/arcA_mhpRp2.csv\", comment='#')\n",
    "df_comp['TF'] = [x.split('_')[0] for x in df_comp['Target_ID']]\n",
    "display(df_comp.head())\n",
    "\n",
    "fig, ax = plt.subplots(figsize=(2, 4))\n",
    "x = np.random.randn(len(df_comp))\n",
    "ax.scatter(np.random.randn(len(df_comp)), np.log10(df_comp['p-value'].values ), s=15)\n",
    "ax.set_xticks([])\n",
    "fig.savefig(\"mhpRp2_tomtom.pdf\")"
   ]
  },
  {
   "cell_type": "code",
   "execution_count": null,
   "id": "0f3f2168",
   "metadata": {},
   "outputs": [],
   "source": [
    "df_comp = pd.read_csv(\"../../../data/sequence_scanning/CRP_mhpRp2.csv\", comment='#')\n",
    "df_comp['TF'] = [x.split('_')[0] for x in df_comp['Target_ID']]\n",
    "display(df_comp.head())\n",
    "\n",
    "fig, ax = plt.subplots(figsize=(2, 4))\n",
    "x = np.random.randn(len(df_comp))\n",
    "ax.scatter(np.random.randn(len(df_comp)), np.log10(df_comp['p-value'].values ), s=15)\n",
    "ax.set_xticks([])\n",
    "fig.savefig(\"mhpRp2_CRP_tomtom.pdf\")"
   ]
  },
  {
   "cell_type": "code",
   "execution_count": null,
   "id": "ad2dcfb4",
   "metadata": {},
   "outputs": [],
   "source": []
  },
  {
   "cell_type": "code",
   "execution_count": null,
   "id": "9b61011f",
   "metadata": {},
   "outputs": [],
   "source": [
    "fig.savefig(\"mhpRp2_mass-spec.pdf\")"
   ]
  },
  {
   "cell_type": "code",
   "execution_count": null,
   "id": "92a2229d",
   "metadata": {},
   "outputs": [],
   "source": [
    "fig.savefig(\"dicC_mass-spec.pdf\")"
   ]
  },
  {
   "cell_type": "code",
   "execution_count": null,
   "id": "f3c848d4-fcbd-4f65-b2f6-d61841ad4b38",
   "metadata": {},
   "outputs": [],
   "source": [
    "fig, ax, df = plot_mass_spec(df_combined, 'araB_1', filter_binding_proteins=True)\n",
    "df.head(20)"
   ]
  },
  {
   "cell_type": "code",
   "execution_count": null,
   "id": "ffccbdd6-0ae8-4e0f-b9f3-2845c8e539a9",
   "metadata": {},
   "outputs": [],
   "source": [
    "fig, ax, df = plot_mass_spec(df_combined, 'elaB', filter_binding_proteins=True)\n",
    "df[df['condition'] == 'H2O2']"
   ]
  },
  {
   "cell_type": "code",
   "execution_count": null,
   "id": "98c35291-d302-45a7-9ad2-5caaf34f279f",
   "metadata": {},
   "outputs": [],
   "source": [
    "fig, ax, df = plot_mass_spec(df_combined, 'cpxR', filter_binding_proteins=True)\n",
    "df.head(20)"
   ]
  },
  {
   "cell_type": "code",
   "execution_count": null,
   "id": "1a351707-997c-4f09-8faa-039925e57329",
   "metadata": {},
   "outputs": [],
   "source": [
    "df_combined[df_combined['sample'] == 'cpxR'].sort_values('enrichment', ascending=False)\n",
    "df.head(20)"
   ]
  },
  {
   "cell_type": "code",
   "execution_count": null,
   "id": "19f07e89-5ba1-45f9-82b8-3f0bb4e08e65",
   "metadata": {},
   "outputs": [],
   "source": [
    "_, _, df = plot_mass_spec(df_combined, 'araB_1', filter_binding_proteins=True)\n",
    "gdf = df.groupby(['condition', 'date'])\n",
    "\n",
    "fig, ax = plt.subplots(n_conditions, 1, figsize=(2, 0.75*n_conditions), sharex=True)\n",
    "if n_conditions == 1:\n",
    "    ax = [ax]\n",
    "        \n",
    "for i, ((condition, date), _df) in enumerate(gdf):\n",
    "    y = np.random.randn(len(_df['enrichment']))\n",
    "    ind = np.where(_df['Gene Symbol'] == 'araC')[0][0]\n",
    "    ax[i].scatter(_df['enrichment'].values, y, s=10)#, s=_df['Sum PEP Score'].values**(1/4)*3)\n",
    "    ax[i].scatter([_df['enrichment'].values[ind]], [y[ind]], s=10)#, s=_df['Sum PEP Score'].values[ind]**(1/4)*3)\n",
    "    \n",
    "    #ax[i].set_xlabel('enrichment')\n",
    "    ax[i].set_yticks([])\n",
    "    ax[i].grid(True)\n",
    "plt.tight_layout()\n",
    "ax[1].set_xlabel('enrichment')\n",
    "fig.savefig('araB_1_mass-spec.pdf')   \n",
    "    "
   ]
  },
  {
   "cell_type": "code",
   "execution_count": null,
   "id": "05082d1a-9b75-409e-a4c1-08bfe7acc48c",
   "metadata": {},
   "outputs": [],
   "source": [
    "_, _, df = plot_mass_spec(df_combined, 'tisB', filter_binding_proteins=True)\n",
    "df = df[df['Sum PEP Score'] > 5]\n",
    "\n",
    "gdf = df.groupby(['condition', 'date'])\n",
    "n_conditions = len(gdf)\n",
    "fig, ax = plt.subplots(n_conditions, 1, figsize=(1, 0.2*n_conditions), sharex=True)\n",
    "if n_conditions == 1:\n",
    "    ax = [ax]\n",
    "        \n",
    "for i, ((condition, date), _df) in enumerate(gdf):\n",
    "    y = np.random.randn(len(_df['enrichment']))\n",
    "    ax[i].scatter(_df['enrichment'].values, y, s=2)#, s=_df['Sum PEP Score'].values**(1/4)*3)\n",
    "    if 'lexA' in _df['Gene Symbol'].values:\n",
    "        ind = np.where(_df['Gene Symbol'] == 'lexA')[0][0]\n",
    "        ax[i].scatter([_df['enrichment'].values[ind]], [y[ind]], s=2)#, s=_df['Sum PEP Score'].values[ind]**(1/4)*3)\n",
    "    \n",
    "    \n",
    "    #ax[i].set_xlabel('enrichment')\n",
    "    ax[i].set_yticks([])\n",
    "    ax[i].grid(True)\n",
    "plt.tight_layout()\n",
    "ax[3].set_xlabel('enrichment')\n",
    "fig.savefig('tisB_mass-spec.pdf')   \n",
    "    "
   ]
  },
  {
   "cell_type": "code",
   "execution_count": null,
   "id": "60c6b44f-d538-442d-9b5e-099b05015df9",
   "metadata": {},
   "outputs": [],
   "source": [
    "_, _, df = plot_mass_spec(df_combined, 'tisB', filter_binding_proteins=True)\n",
    "df = df[df['Sum PEP Score'] > 5]\n",
    "\n",
    "gdf = df.groupby(['condition', 'date'])\n",
    "n_conditions = len(gdf)\n",
    "fig, ax = plt.subplots(n_conditions, 1, figsize=(1, 0.2*n_conditions), sharex=True)\n",
    "if n_conditions == 1:\n",
    "    ax = [ax]\n",
    "        \n",
    "for i, ((condition, date), _df) in enumerate(gdf):\n",
    "    y = np.random.randn(len(_df['enrichment']))\n",
    "    ax[i].scatter(_df['enrichment'].values, y, s=2)#, s=_df['Sum PEP Score'].values**(1/4)*3)\n",
    "    if 'lexA' in _df['Gene Symbol'].values:\n",
    "        ind = np.where(_df['Gene Symbol'] == 'lexA')[0][0]\n",
    "        ax[i].scatter([_df['enrichment'].values[ind]], [y[ind]], s=2)#, s=_df['Sum PEP Score'].values[ind]**(1/4)*3)\n",
    "    \n",
    "    \n",
    "    #ax[i].set_xlabel('enrichment')\n",
    "    ax[i].set_yticks([])\n",
    "    ax[i].grid(True)\n",
    "plt.tight_layout()\n",
    "ax[3].set_xlabel('enrichment')\n",
    "fig.savefig('tisB_mass-spec.pdf')   \n",
    "    "
   ]
  },
  {
   "cell_type": "code",
   "execution_count": null,
   "id": "7b97a5e3-9555-4675-b345-088aaa9fb18c",
   "metadata": {},
   "outputs": [],
   "source": [
    "fig, ax, df = plot_mass_spec(df_combined, 'tisB', filter_binding_proteins=True)\n",
    "df[df['Sum PEP Score'] > 5]"
   ]
  },
  {
   "cell_type": "code",
   "execution_count": null,
   "id": "d6c9bcb7-20c3-4b42-b122-364a4e688d91",
   "metadata": {},
   "outputs": [],
   "source": [
    "_, _, df = plot_mass_spec(df_combined, 'tisB', filter_binding_proteins=True)\n",
    "df = df[df['Sum PEP Score'] > 5]\n",
    "\n",
    "gdf = df.groupby(['condition', 'date'])\n",
    "\n",
    "n_conditions = len(gdf)\n",
    "fig, ax = plt.subplots(1, n_conditions, figsize=(0.75*n_conditions, 2), sharey=True)\n",
    "if n_conditions == 1:\n",
    "    ax = [ax]\n",
    "        \n",
    "for i, ((condition, date), _df) in enumerate(gdf):\n",
    "    y = np.random.randn(len(_df['enrichment']))\n",
    "    ax[i].scatter(y, _df['enrichment'].values, s=10)#, s=_df['Sum PEP Score'].values**(1/4)*3)\n",
    "    if 'lexA' in _df['Gene Symbol'].values:\n",
    "        ind = np.where(_df['Gene Symbol'] == 'lexA')[0][0]\n",
    "        ax[i].scatter([y[ind]], [_df['enrichment'].values[ind]], s=10)#, s=_df['Sum PEP Score'].values[ind]**(1/4)*3)\n",
    "    \n",
    "    #ax[i].set_xlabel('enrichment')\n",
    "    ax[i].set_xticks([])\n",
    "    ax[i].grid(True)\n",
    "plt.tight_layout()\n",
    "ax[0].set_ylabel('enrichment')\n",
    "fig.savefig('tisB_mass-spec.pdf')   \n",
    "    "
   ]
  },
  {
   "cell_type": "code",
   "execution_count": null,
   "id": "cb23588b-c179-45c7-85a5-a4fd7715dae2",
   "metadata": {},
   "outputs": [],
   "source": [
    "fig, ax, df = plot_mass_spec(df_combined, 'cusC')\n",
    "df.head(20)"
   ]
  },
  {
   "cell_type": "code",
   "execution_count": null,
   "id": "a25f9877-1fa7-43f5-a871-c6e76bba1407",
   "metadata": {},
   "outputs": [],
   "source": [
    "fig, ax, df = plot_mass_spec(df_combined, 'yagB', filter_binding_proteins=True)\n",
    "df.head(20)"
   ]
  },
  {
   "cell_type": "code",
   "execution_count": null,
   "id": "78166df2-d4c7-4d8b-b720-2f8d78185bb8",
   "metadata": {},
   "outputs": [],
   "source": [
    "fig, ax, df = plot_mass_spec(df_combined, 'yagB2', filter_binding_proteins=True)\n",
    "df.head(20)"
   ]
  },
  {
   "cell_type": "code",
   "execution_count": null,
   "id": "e3d33779-daa2-422e-97ba-63e1b9c7e97d",
   "metadata": {},
   "outputs": [],
   "source": [
    "fig, ax, df = plot_mass_spec(df_combined, 'intE', filter_binding_proteins=True)\n",
    "df.head(20)"
   ]
  },
  {
   "cell_type": "code",
   "execution_count": null,
   "id": "5e6ac0f7-1f59-47b6-adbb-d5ce4fa78fe5",
   "metadata": {},
   "outputs": [],
   "source": [
    "fig, ax, df = plot_mass_spec(df_combined, 'ybiY1', filter_binding_proteins=True)\n",
    "df.head(20)"
   ]
  },
  {
   "cell_type": "code",
   "execution_count": null,
   "id": "f2840921-de10-4230-9db3-8e2cdf6f0218",
   "metadata": {},
   "outputs": [],
   "source": [
    "fig, ax, df = plot_mass_spec(df_combined, 'yjbJ', filter_binding_proteins=True)\n",
    "df.head(20)"
   ]
  },
  {
   "cell_type": "code",
   "execution_count": null,
   "id": "55a007bd-daf0-43ef-b137-97342e8db95f",
   "metadata": {},
   "outputs": [],
   "source": [
    "fig, ax, df = plot_mass_spec(df_combined, 'yqjE', filter_binding_proteins=True)\n",
    "df.head(20)"
   ]
  },
  {
   "cell_type": "code",
   "execution_count": null,
   "id": "9faa83e8-6f37-459e-862f-6fcbf0b01a63",
   "metadata": {},
   "outputs": [],
   "source": [
    "fig, ax, df = plot_mass_spec(df_combined, 'yadI', filter_binding_proteins=True)\n",
    "df.head(20)"
   ]
  },
  {
   "cell_type": "code",
   "execution_count": null,
   "id": "0acff3a2-4de1-4c0c-932f-fd7ae6f1c5e3",
   "metadata": {},
   "outputs": [],
   "source": [
    "fig, ax, df = plot_mass_spec(df_combined, 'yadE', filter_binding_proteins=True)\n",
    "df.head(20)"
   ]
  },
  {
   "cell_type": "code",
   "execution_count": null,
   "id": "a6872b3f-7ec7-4ff6-a9b0-868daec0951a",
   "metadata": {},
   "outputs": [],
   "source": [
    "fig, ax, df = plot_mass_spec(df_combined, 'ygiW_2', filter_binding_proteins=True)\n",
    "df.head(20)"
   ]
  },
  {
   "cell_type": "code",
   "execution_count": null,
   "id": "29aab9ce-8769-484b-b3b8-e570d5a8bca2",
   "metadata": {},
   "outputs": [],
   "source": [
    "df[df['Gene Symbol']=='sucB']"
   ]
  },
  {
   "cell_type": "code",
   "execution_count": null,
   "id": "662f5322-97fb-46ef-85f5-d82c52d4907b",
   "metadata": {},
   "outputs": [],
   "source": [
    "df_comp = pd.read_csv(\"../../../data/cases/yadI_predicted_-45_-20.tsv\", sep='\\t', comment='#')\n",
    "df_comp['TF'] = [x.split('_')[0] for x in df_comp['Target_ID']]\n",
    "display(df_comp.head())\n",
    "\n",
    "fig, ax = plt.subplots(figsize=(2, 4))\n",
    "x = np.random.randn(len(df_comp))\n",
    "\n",
    "inds = np.where(df_comp['TF'] == 'CRP')[0][0:6]\n",
    "ax.scatter(x, np.log10(df_comp['p-value'].values ), s=15)\n",
    "ax.scatter(x[inds], np.log10(df_comp['p-value'].values )[inds], s=15)\n",
    "ax.set_ylabel(\"log10 p-value\")\n",
    "ax.set_xticks([])\n",
    "fig.tight_layout()\n",
    "fig.savefig(\"yadI_CRP_tomtom.pdf\")"
   ]
  }
 ],
 "metadata": {
  "kernelspec": {
   "display_name": "bebi103",
   "language": "python",
   "name": "python3"
  },
  "language_info": {
   "codemirror_mode": {
    "name": "ipython",
    "version": 3
   },
   "file_extension": ".py",
   "mimetype": "text/x-python",
   "name": "python",
   "nbconvert_exporter": "python",
   "pygments_lexer": "ipython3",
   "version": "3.12.10"
  }
 },
 "nbformat": 4,
 "nbformat_minor": 5
}
